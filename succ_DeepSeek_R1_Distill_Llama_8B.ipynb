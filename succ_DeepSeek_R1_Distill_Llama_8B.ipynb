{
  "nbformat": 4,
  "nbformat_minor": 0,
  "metadata": {
    "colab": {
      "private_outputs": true,
      "provenance": [],
      "gpuType": "T4"
    },
    "kernelspec": {
      "name": "python3",
      "display_name": "Python 3"
    },
    "language_info": {
      "name": "python"
    },
    "accelerator": "GPU"
  },
  "cells": [
    {
      "cell_type": "code",
      "execution_count": null,
      "metadata": {
        "id": "XzEW0MZ0mw17"
      },
      "outputs": [],
      "source": []
    },
    {
      "cell_type": "code",
      "source": [],
      "metadata": {
        "id": "o4cGB11wnlnZ"
      },
      "execution_count": null,
      "outputs": []
    },
    {
      "cell_type": "code",
      "source": [
        "from transformers import pipeline\n",
        "\n",
        "messages = [\n",
        "    {\"role\": \"user\", \"content\": \"Who are you?\"},\n",
        "]\n",
        "pipe = pipeline(\"text-generation\", model=\"deepseek-ai/DeepSeek-R1-Distill-Llama-8B\", torch_dtype=torch.float16, device_map=\"auto\")\n",
        "pipe(messages)"
      ],
      "metadata": {
        "id": "fRz42R9hnlp3"
      },
      "execution_count": null,
      "outputs": []
    },
    {
      "cell_type": "markdown",
      "source": [
        "شغال"
      ],
      "metadata": {
        "id": "dWrYPgAPzb3U"
      }
    },
    {
      "cell_type": "code",
      "source": [
        "from transformers import pipeline\n",
        "import torch\n",
        "\n",
        "messages = [\n",
        "    {\"role\": \"user\", \"content\": \"Who are you?\"},\n",
        "]\n",
        "\n",
        "# إنشاء خط الأنابيب للنموذج\n",
        "pipe = pipeline(\"text-generation\", model=\"deepseek-ai/DeepSeek-R1-Distill-Llama-8B\", torch_dtype=torch.bfloat16, device_map=\"auto\")\n",
        "\n",
        "# استدعاء النموذج مع تحديد max_new_tokens\n",
        "response = pipe(messages, max_new_tokens=50)  # يمكنك تغيير 50 إلى أي عدد تريده\n",
        "\n",
        "print(response)"
      ],
      "metadata": {
        "id": "9eSl1eD_n0mv"
      },
      "execution_count": null,
      "outputs": []
    },
    {
      "cell_type": "code",
      "source": [
        "for _ in range(6):\n",
        "    print(\"8\")"
      ],
      "metadata": {
        "id": "L1yjPZWbpYeY"
      },
      "execution_count": null,
      "outputs": []
    }
  ]
}